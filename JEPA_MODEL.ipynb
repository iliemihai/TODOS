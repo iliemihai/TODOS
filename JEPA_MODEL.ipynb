{
  "nbformat": 4,
  "nbformat_minor": 0,
  "metadata": {
    "colab": {
      "provenance": [],
      "authorship_tag": "ABX9TyMvoztmYT9fzPfHqakxN5aT",
      "include_colab_link": true
    },
    "kernelspec": {
      "name": "python3",
      "display_name": "Python 3"
    },
    "language_info": {
      "name": "python"
    }
  },
  "cells": [
    {
      "cell_type": "markdown",
      "metadata": {
        "id": "view-in-github",
        "colab_type": "text"
      },
      "source": [
        "<a href=\"https://colab.research.google.com/github/iliemihai/TODOS/blob/main/JEPA_MODEL.ipynb\" target=\"_parent\"><img src=\"https://colab.research.google.com/assets/colab-badge.svg\" alt=\"Open In Colab\"/></a>"
      ]
    },
    {
      "cell_type": "code",
      "execution_count": null,
      "metadata": {
        "id": "L6UFGNikbQNi"
      },
      "outputs": [],
      "source": [
        "### GPT LLM TRAIING OBJECTIVE + JEPA\n",
        "jepa_lambda = 0.0\n",
        "jepa_k = 1\n",
        "jepa_split = 0.5\n",
        "\n",
        "\n",
        "def cosine_loss(a, b):\n",
        "    a = F.normalize(a, dim=-1); b = F.normalize(b, dim=-1)\n",
        "    return (1.0 - (a * b).sum(dim=-1)).mean()\n",
        "\n",
        "\n",
        "class GPT(nn.Module):\n",
        "    def __init__(self, config):\n",
        "        super().__init__()\n",
        "        self.pred_token = nn.Parameter(torch.zeros(1, 1, config.n_embd))\n",
        "        nn.init.normal_(self.pred_token, mean=0.0, std=0.02)\n",
        "\n",
        "    def _forward_from_tok_emb(self, tok_emb):\n",
        "        T = tok_emb.size(1)\n",
        "        device = tok_emb.device\n",
        "        pos = torch.arange(0, T, dtype=torch.long, device=device).unsqueeze(0) # (1,T)\n",
        "        pos_emb = self.transformer.wpe(pos)  # (1,T,C)\n",
        "        x = self.transformer.drop(tok_emb + pos_emb)\n",
        "        for block in self.transformer.h:\n",
        "            x = block(x)\n",
        "        x = self.transformer.ln_f(x)\n",
        "        return x  # (B, T, C)\n",
        "\n",
        "    @torch.no_grad()\n",
        "    def encode_last(self, idx: torch.Tensor) -> torch.Tensor:\n",
        "        \"\"\"\n",
        "        Enc(x): last hidden state of the sequence x (no gradient by default if wrapped in no_grad)\n",
        "        idx: (B, T) token ids\n",
        "        returns: (B, C)\n",
        "        \"\"\"\n",
        "        tok_emb = self.transformer.wte(idx)            # (B, T, C)\n",
        "        x = self._forward_from_tok_emb(tok_emb)        # (B, T, C)\n",
        "        return x[:, -1, :]\n",
        "\n",
        "    def encode_last_with_pred(self, idx: torch.Tensor, k_pred: int = 1) -> torch.Tensor:\n",
        "        \"\"\"\n",
        "        Pred(x, k): append k learnable PRED tokens to x, return last hidden (the final PRED).\n",
        "        idx: (B, T), k_pred >= 0\n",
        "        returns: (B, C)\n",
        "        \"\"\"\n",
        "        B, T = idx.shape\n",
        "        tok_emb = self.transformer.wte(idx)            # (B, T, C)\n",
        "        if k_pred > 0:\n",
        "            pred_tok = self.pred_token.expand(B, k_pred, -1)  # (B, k, C)\n",
        "            tok_emb = torch.cat([tok_emb, pred_tok], dim=1)   # (B, T+k, C)\n",
        "        x = self._forward_from_tok_emb(tok_emb)        # (B, T(+k), C)\n",
        "        return x[:, -1, :]                             # last token (last PRED if k>0)\n",
        "\n",
        "\n",
        "logits, loss = model(x, y) # loss is CE\n",
        "loss_ce = loss\n",
        "\n",
        "if jepa_lambda > 0.0:\n",
        "    T = x.size(1)\n",
        "    split = max(2, int(T * jepa_split))  # at least 2 tokens\n",
        "    xa = x[:, :split]\n",
        "    xb = x[:, split:]\n",
        "\n",
        "    if xb.size(1) >= 2:\n",
        "        # Pred(TEXT) → last hidden after k PRED tokens (gradients ON)\n",
        "        z_pred = model.encode_last_with_pred(xa, k_pred=jepa_k)     # (B, C)\n",
        "        # Enc(CODE)  → last hidden of the target view (stop-grad OFF)\n",
        "        with torch.no_grad():\n",
        "            z_tgt = model.encode_last(xb)                           # (B, C)\n",
        "\n",
        "        loss_jepa = cosine_loss(z_pred, z_tgt)\n",
        "        loss = loss_ce + jepa_lambda * loss_jepa\n",
        "    else:\n",
        "        loss = loss_ce\n",
        "        loss_jepa = torch.tensor(0.0, device=loss.device)\n",
        "else:\n",
        "    loss = loss_ce\n",
        "    loss_jepa = torch.tensor(0.0, device=loss.device)\n",
        "\n",
        "# backward/update exactly as before...\n",
        "optimizer.zero_grad(set_to_none=True)\n",
        "loss.backward()\n",
        "optimizer.step()\n",
        "\n",
        "# (optional) log both CE and JEPA terms\n",
        "if iter_num % 100 == 0:\n",
        "    print(f\"iter {iter_num}: CE={loss_ce.item():.4f} JEPA={loss_jepa.item():.4f} total={loss.item():.4f}\")\n"
      ]
    }
  ]
}